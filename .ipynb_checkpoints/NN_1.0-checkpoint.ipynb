{
 "cells": [
  {
   "cell_type": "code",
   "execution_count": 77,
   "metadata": {},
   "outputs": [],
   "source": [
    "import numpy as np\n",
    "import matplotlib.pyplot as plt\n",
    "from scipy import optimize"
   ]
  },
  {
   "cell_type": "code",
   "execution_count": 78,
   "metadata": {},
   "outputs": [
    {
     "name": "stdout",
     "output_type": "stream",
     "text": [
      "[[ 0.02038775  0.18462368  0.4211521 ]\n",
      " [ 0.59052882 -0.91247078 -1.11491595]] [[-1.69430782]\n",
      " [-1.40759602]\n",
      " [ 0.11620573]]\n"
     ]
    }
   ],
   "source": [
    "class fucking_Neural_network(object):\n",
    "    ''' Defining the neural network class'''\n",
    "    def __init__(self):\n",
    "        # Parameters that do not change (hyperparameters)\n",
    "        self.inputLayerSize = 2\n",
    "        self.outputLayerSize = 1\n",
    "        self.hiddenLayerSize = 3\n",
    "        \n",
    "        # Initializing weights\n",
    "        self.w1 = np.random.randn(self.inputLayerSize, self.hiddenLayerSize)\n",
    "        self.w2 = np.random.randn(self.hiddenLayerSize, self.outputLayerSize)\n",
    "        print(self.w1,self.w2)\n",
    "    def forward(self,x):\n",
    "        # Forward propagation\n",
    "        self.z2 = np.dot(x, self.w1) # inputs x synapse weights 1\n",
    "        self.a2 = fucking_sigmoid(np.array(self.z2)) # apply activation function\n",
    "        self.z3 = np.dot(self.a2, self.w2) # output of layer x synapse weights 2\n",
    "        y_hat = fucking_sigmoid(self.z3) # apply activation function again\n",
    "        return y_hat\n",
    "\n",
    "NN = fucking_Neural_network()"
   ]
  },
  {
   "cell_type": "code",
   "execution_count": 79,
   "metadata": {
    "collapsed": true
   },
   "outputs": [],
   "source": [
    "def fucking_sigmoid(z):\n",
    "    # Applying a sigmoidal activation function\n",
    "    return 1/(1 + np.exp(-z))\n",
    "\n",
    "def sigmoidPrime(z):\n",
    "    # Derivative of above sigmoid function\n",
    "    return np.exp(-z)/((1 + np.exp(-z))**2)"
   ]
  },
  {
   "cell_type": "code",
   "execution_count": 80,
   "metadata": {},
   "outputs": [],
   "source": [
    "def costFunction(X,y):\n",
    "    # Using the sum of the squared error as cost\n",
    "    NN.y_hat = NN.forward(X)\n",
    "    cost = 0.5*sum((y-NN.y_hat)**2)/X.shape[0] + (Lambda/2)*(np.sum(NN.w1**2) + sum(NN.w2**2)) \n",
    "    \n",
    "    return cost\n",
    "\n",
    "def costFunctionPrime(X, y):\n",
    "    # Derivative with respect to w1 and w2\n",
    "    NN.y_hat = NN.forward(X)\n",
    "    \n",
    "    delta3 = np.multiply(-(y - NN.y_hat), sigmoidPrime(NN.z3))\n",
    "    print(delta3.shape, NN.w2.shape)\n",
    "    dJdw2 = np.dot(NN.a2.T, delta3) + Lambda*NN.w2\n",
    "    delta2 = np.multiply(delta3, NN.w2.T) * (sigmoidPrime(NN.z2))\n",
    "    print(delta2.shape)\n",
    "    dJdw1 = np.dot(X.T, delta2) + Lambda*NN.w1\n",
    "    \n",
    "    return dJdw1, dJdw2"
   ]
  },
  {
   "cell_type": "code",
   "execution_count": 81,
   "metadata": {
    "collapsed": true
   },
   "outputs": [],
   "source": [
    "def getParams():\n",
    "    # Get w1 and w2 as vectors\n",
    "    params = np.concatenate((NN.w1.ravel(), NN.w2.ravel()))\n",
    "    return params\n",
    "\n",
    "def setParams(params):\n",
    "    # Take w as vectors and set new w1 and w2\n",
    "    w1_start = 0\n",
    "    w1_end = NN.hiddenLayerSize * NN.inputLayerSize\n",
    "    NN.w1 = np.reshape(params[w1_start:w1_end], (NN.inputLayerSize, NN.hiddenLayerSize))\n",
    "    w2_end = w1_end + NN.hiddenLayerSize*NN.outputLayerSize\n",
    "    NN.w2 = np.reshape(params[w1_end:w2_end], (NN.hiddenLayerSize, NN.outputLayerSize))\n",
    "\n",
    "def computeGradient(X,y):\n",
    "    # Computes a gradient (duh)\n",
    "    dJdw1, dJdw2 = costFunctionPrime(X,y)\n",
    "    return np.concatenate((dJdw1.ravel(), dJdw2.ravel()))\n",
    "    "
   ]
  },
  {
   "cell_type": "code",
   "execution_count": 82,
   "metadata": {},
   "outputs": [],
   "source": [
    "''' Sample execution with test values '''\n",
    "X = np.array(([3,5],[5,1],[10,2], [6,1.5]), dtype=float)\n",
    "y = np.array(([75],[82],[93],[70]), dtype = float)\n",
    "X = X/np.amax(X, axis=0)\n",
    "y = y/100\n",
    "\n",
    "# Regularization parameter\n",
    "Lambda = 0.0003\n",
    "\n",
    "testRun = NN.forward(X)"
   ]
  },
  {
   "cell_type": "code",
   "execution_count": 83,
   "metadata": {},
   "outputs": [
    {
     "data": {
      "text/plain": [
       "array([[ 0.18534935],\n",
       "       [ 0.1800858 ],\n",
       "       [ 0.17677259],\n",
       "       [ 0.17975841]])"
      ]
     },
     "execution_count": 83,
     "metadata": {},
     "output_type": "execute_result"
    }
   ],
   "source": [
    "testRun"
   ]
  },
  {
   "cell_type": "code",
   "execution_count": 86,
   "metadata": {},
   "outputs": [
    {
     "name": "stdout",
     "output_type": "stream",
     "text": [
      "(4, 1) (3, 1)\n",
      "(4, 3)\n",
      "[ 0.10573498] [ 0.03687734]\n"
     ]
    }
   ],
   "source": [
    "cost1 = costFunction(X,y)\n",
    "dJdw1, dJdw2 = costFunctionPrime(X,y)\n",
    "\n",
    "# When we account for derivatives (by subtracting them) \n",
    "# the cost should go down\n",
    "NN.w1 = NN.w1 - 3*dJdw1\n",
    "NN.w2 = NN.w2 - 3*dJdw2\n",
    "cost3 = costFunction(X,y)\n",
    "\n",
    "print (cost1, cost3)"
   ]
  },
  {
   "cell_type": "code",
   "execution_count": 87,
   "metadata": {
    "collapsed": true
   },
   "outputs": [],
   "source": [
    "def computeNumericalGradient(N,X,y):\n",
    "    ''' Estimating the gradient numerically to compare values. '''\n",
    "    paramsInitial = getParams()\n",
    "    numgrad = np.zeros(paramsInitial.shape)\n",
    "    perturb = np.zeros(paramsInitial.shape)\n",
    "    e = 1e-4\n",
    "    \n",
    "    for p in range(len(paramsInitial)):\n",
    "        # Set perturbation vector\n",
    "        perturb[p] = e\n",
    "        setParams(paramsInitial + perturb)\n",
    "        loss2 = costFunction(X,y)\n",
    "        \n",
    "        setParams(paramsInitial - perturb)\n",
    "        loss1 = costFunction(X,y)\n",
    "        \n",
    "        # Compute num grad\n",
    "        numgrad[p] = (loss2 - loss1)/(2*e)\n",
    "        \n",
    "        #Return changed value to zero\n",
    "        perturb[p] = 0\n",
    "    \n",
    "    # Return params to original values\n",
    "    setParams(paramsInitial)\n",
    "\n",
    "    return numgrad "
   ]
  },
  {
   "cell_type": "code",
   "execution_count": 88,
   "metadata": {},
   "outputs": [
    {
     "name": "stdout",
     "output_type": "stream",
     "text": [
      "(4, 1) (3, 1)\n",
      "(4, 3)\n"
     ]
    },
    {
     "data": {
      "text/plain": [
       "0.60043953437950992"
      ]
     },
     "execution_count": 88,
     "metadata": {},
     "output_type": "execute_result"
    }
   ],
   "source": [
    "numgrad = computeNumericalGradient(NN, X, y)\n",
    "grad = computeGradient(X,y)\n",
    "# This measures how similar they are (should be < 10^8)\n",
    "np.linalg.norm(grad-numgrad) / np.linalg.norm(grad+numgrad)"
   ]
  },
  {
   "cell_type": "code",
   "execution_count": 89,
   "metadata": {},
   "outputs": [],
   "source": [
    "class trainer(object):\n",
    "    ''' Defining a training class. Modified to check testing error during training. '''\n",
    "    def __init__(self, N):\n",
    "        # Make a local reference to the neural network\n",
    "        self.N = N    \n",
    "        \n",
    "    def callbackF(self, params):\n",
    "        setParams(params)\n",
    "        self.J.append(costFunction(self.X, self.y))\n",
    "        self.testJ.append(costFunction(self.testX, self.testy))\n",
    "    \n",
    "    def costFunctionWrapper(self, params, X, y):\n",
    "        # To track the cost function over training time\n",
    "        setParams(params)\n",
    "        cost = costFunction(X, y)\n",
    "        grad = computeGradient(X, y)\n",
    "        return cost, grad\n",
    "    \n",
    "    # This is the actual train function\n",
    "    def train(self, trainX, trainy, testX, testy):\n",
    "        # Make internal variable for callback\n",
    "        self.X = trainX\n",
    "        self.y = trainy\n",
    "        \n",
    "        self.testX = testX\n",
    "        self.testy = testy\n",
    "        \n",
    "        # Make empty list to store costs\n",
    "        self.J = []\n",
    "        self.testJ = []\n",
    "        params0 = getParams()\n",
    "        \n",
    "        options = {'maxiter': 200, 'disp': True}\n",
    "        _res = optimize.minimize(self.costFunctionWrapper, params0, jac = True, method = 'BFGS', args = (X,y), options = options, callback = self.callbackF)\n",
    "        \n",
    "        # Update params with new values from last iteration\n",
    "        setParams(_res.x)\n",
    "        self.optimizationResults = _res"
   ]
  },
  {
   "cell_type": "code",
   "execution_count": 90,
   "metadata": {
    "collapsed": true
   },
   "outputs": [],
   "source": [
    "''' Sample execution with Training and Testing values '''\n",
    "trainX = np.array(([3,5],[5,1],[10,2], [6,1.5]), dtype=float)\n",
    "trainy = np.array(([75],[82],[93],[70]), dtype = float)\n",
    "trainX = trainX/np.amax(trainX, axis=0)\n",
    "trainy = trainy/100.\n",
    "\n",
    "testX = np.array(([4,5.5],[4.5,1],[9,2.5], [6,2]), dtype=float)\n",
    "testy = np.array(([70],[89],[85],[75]), dtype = float)\n",
    "\n",
    "testX = testX/np.amax(testX, axis=0)\n",
    "testy = testy/100"
   ]
  },
  {
   "cell_type": "code",
   "execution_count": 91,
   "metadata": {},
   "outputs": [
    {
     "name": "stdout",
     "output_type": "stream",
     "text": [
      "(4, 1) (3, 1)\n",
      "(4, 3)\n",
      "(4, 1) (3, 1)\n",
      "(4, 3)\n",
      "(4, 1) (3, 1)\n",
      "(4, 3)\n",
      "(4, 1) (3, 1)\n",
      "(4, 3)\n",
      "(4, 1) (3, 1)\n",
      "(4, 3)\n",
      "(4, 1) (3, 1)\n",
      "(4, 3)\n",
      "(4, 1) (3, 1)\n",
      "(4, 3)\n",
      "(4, 1) (3, 1)\n",
      "(4, 3)\n",
      "(4, 1) (3, 1)\n",
      "(4, 3)\n",
      "(4, 1) (3, 1)\n",
      "(4, 3)\n",
      "(4, 1) (3, 1)\n",
      "(4, 3)\n",
      "(4, 1) (3, 1)\n",
      "(4, 3)\n",
      "(4, 1) (3, 1)\n",
      "(4, 3)\n",
      "(4, 1) (3, 1)\n",
      "(4, 3)\n",
      "(4, 1) (3, 1)\n",
      "(4, 3)\n",
      "(4, 1) (3, 1)\n",
      "(4, 3)\n",
      "(4, 1) (3, 1)\n",
      "(4, 3)\n",
      "(4, 1) (3, 1)\n",
      "(4, 3)\n",
      "(4, 1) (3, 1)\n",
      "(4, 3)\n",
      "(4, 1) (3, 1)\n",
      "(4, 3)\n",
      "(4, 1) (3, 1)\n",
      "(4, 3)\n",
      "(4, 1) (3, 1)\n",
      "(4, 3)\n",
      "(4, 1) (3, 1)\n",
      "(4, 3)\n",
      "(4, 1) (3, 1)\n",
      "(4, 3)\n",
      "(4, 1) (3, 1)\n",
      "(4, 3)\n",
      "(4, 1) (3, 1)\n",
      "(4, 3)\n",
      "(4, 1) (3, 1)\n",
      "(4, 3)\n",
      "(4, 1) (3, 1)\n",
      "(4, 3)\n",
      "(4, 1) (3, 1)\n",
      "(4, 3)\n",
      "(4, 1) (3, 1)\n",
      "(4, 3)\n",
      "(4, 1) (3, 1)\n",
      "(4, 3)\n",
      "(4, 1) (3, 1)\n",
      "(4, 3)\n",
      "(4, 1) (3, 1)\n",
      "(4, 3)\n",
      "(4, 1) (3, 1)\n",
      "(4, 3)\n",
      "(4, 1) (3, 1)\n",
      "(4, 3)\n",
      "(4, 1) (3, 1)\n",
      "(4, 3)\n",
      "(4, 1) (3, 1)\n",
      "(4, 3)\n",
      "(4, 1) (3, 1)\n",
      "(4, 3)\n",
      "(4, 1) (3, 1)\n",
      "(4, 3)\n",
      "(4, 1) (3, 1)\n",
      "(4, 3)\n",
      "(4, 1) (3, 1)\n",
      "(4, 3)\n",
      "(4, 1) (3, 1)\n",
      "(4, 3)\n",
      "(4, 1) (3, 1)\n",
      "(4, 3)\n",
      "(4, 1) (3, 1)\n",
      "(4, 3)\n",
      "(4, 1) (3, 1)\n",
      "(4, 3)\n",
      "(4, 1) (3, 1)\n",
      "(4, 3)\n",
      "(4, 1) (3, 1)\n",
      "(4, 3)\n",
      "(4, 1) (3, 1)\n",
      "(4, 3)\n",
      "(4, 1) (3, 1)\n",
      "(4, 3)\n",
      "(4, 1) (3, 1)\n",
      "(4, 3)\n",
      "(4, 1) (3, 1)\n",
      "(4, 3)\n",
      "(4, 1) (3, 1)\n",
      "(4, 3)\n",
      "(4, 1) (3, 1)\n",
      "(4, 3)\n",
      "(4, 1) (3, 1)\n",
      "(4, 3)\n",
      "(4, 1) (3, 1)\n",
      "(4, 3)\n",
      "(4, 1) (3, 1)\n",
      "(4, 3)\n",
      "(4, 1) (3, 1)\n",
      "(4, 3)\n",
      "(4, 1) (3, 1)\n",
      "(4, 3)\n",
      "(4, 1) (3, 1)\n",
      "(4, 3)\n",
      "(4, 1) (3, 1)\n",
      "(4, 3)\n",
      "(4, 1) (3, 1)\n",
      "(4, 3)\n",
      "(4, 1) (3, 1)\n",
      "(4, 3)\n",
      "(4, 1) (3, 1)\n",
      "(4, 3)\n",
      "(4, 1) (3, 1)\n",
      "(4, 3)\n",
      "(4, 1) (3, 1)\n",
      "(4, 3)\n",
      "(4, 1) (3, 1)\n",
      "(4, 3)\n",
      "(4, 1) (3, 1)\n",
      "(4, 3)\n",
      "(4, 1) (3, 1)\n",
      "(4, 3)\n",
      "(4, 1) (3, 1)\n",
      "(4, 3)\n",
      "(4, 1) (3, 1)\n",
      "(4, 3)\n",
      "(4, 1) (3, 1)\n",
      "(4, 3)\n",
      "(4, 1) (3, 1)\n",
      "(4, 3)\n",
      "(4, 1) (3, 1)\n",
      "(4, 3)\n",
      "(4, 1) (3, 1)\n",
      "(4, 3)\n",
      "(4, 1) (3, 1)\n",
      "(4, 3)\n",
      "(4, 1) (3, 1)\n",
      "(4, 3)\n",
      "(4, 1) (3, 1)\n",
      "(4, 3)\n",
      "(4, 1) (3, 1)\n",
      "(4, 3)\n",
      "(4, 1) (3, 1)\n",
      "(4, 3)\n",
      "(4, 1) (3, 1)\n",
      "(4, 3)\n",
      "(4, 1) (3, 1)\n",
      "(4, 3)\n",
      "(4, 1) (3, 1)\n",
      "(4, 3)\n",
      "(4, 1) (3, 1)\n",
      "(4, 3)\n",
      "(4, 1) (3, 1)\n",
      "(4, 3)\n",
      "(4, 1) (3, 1)\n",
      "(4, 3)\n",
      "(4, 1) (3, 1)\n",
      "(4, 3)\n",
      "(4, 1) (3, 1)\n",
      "(4, 3)\n",
      "(4, 1) (3, 1)\n",
      "(4, 3)\n",
      "(4, 1) (3, 1)\n",
      "(4, 3)\n",
      "(4, 1) (3, 1)\n",
      "(4, 3)\n",
      "(4, 1) (3, 1)\n",
      "(4, 3)\n",
      "(4, 1) (3, 1)\n",
      "(4, 3)\n",
      "(4, 1) (3, 1)\n",
      "(4, 3)\n",
      "(4, 1) (3, 1)\n",
      "(4, 3)\n",
      "(4, 1) (3, 1)\n",
      "(4, 3)\n",
      "(4, 1) (3, 1)\n",
      "(4, 3)\n",
      "(4, 1) (3, 1)\n",
      "(4, 3)\n",
      "(4, 1) (3, 1)\n",
      "(4, 3)\n",
      "(4, 1) (3, 1)\n",
      "(4, 3)\n",
      "(4, 1) (3, 1)\n",
      "(4, 3)\n",
      "(4, 1) (3, 1)\n",
      "(4, 3)\n",
      "(4, 1) (3, 1)\n",
      "(4, 3)\n",
      "(4, 1) (3, 1)\n",
      "(4, 3)\n",
      "(4, 1) (3, 1)\n",
      "(4, 3)\n",
      "(4, 1) (3, 1)\n",
      "(4, 3)\n",
      "(4, 1) (3, 1)\n",
      "(4, 3)\n",
      "(4, 1) (3, 1)\n",
      "(4, 3)\n",
      "(4, 1) (3, 1)\n",
      "(4, 3)\n",
      "(4, 1) (3, 1)\n",
      "(4, 3)\n",
      "(4, 1) (3, 1)\n",
      "(4, 3)\n",
      "(4, 1) (3, 1)\n",
      "(4, 3)\n",
      "(4, 1) (3, 1)\n",
      "(4, 3)\n",
      "(4, 1) (3, 1)\n",
      "(4, 3)\n",
      "(4, 1) (3, 1)\n",
      "(4, 3)\n",
      "(4, 1) (3, 1)\n",
      "(4, 3)\n",
      "(4, 1) (3, 1)\n",
      "(4, 3)\n",
      "(4, 1) (3, 1)\n",
      "(4, 3)\n",
      "(4, 1) (3, 1)\n",
      "(4, 3)\n",
      "(4, 1) (3, 1)\n",
      "(4, 3)\n",
      "(4, 1) (3, 1)\n",
      "(4, 3)\n",
      "(4, 1) (3, 1)\n",
      "(4, 3)\n",
      "(4, 1) (3, 1)\n",
      "(4, 3)\n",
      "(4, 1) (3, 1)\n",
      "(4, 3)\n",
      "(4, 1) (3, 1)\n",
      "(4, 3)\n",
      "(4, 1) (3, 1)\n",
      "(4, 3)\n",
      "(4, 1) (3, 1)\n",
      "(4, 3)\n",
      "(4, 1) (3, 1)\n",
      "(4, 3)\n",
      "(4, 1) (3, 1)\n",
      "(4, 3)\n",
      "(4, 1) (3, 1)\n",
      "(4, 3)\n",
      "(4, 1) (3, 1)\n",
      "(4, 3)\n",
      "(4, 1) (3, 1)\n",
      "(4, 3)\n",
      "(4, 1) (3, 1)\n",
      "(4, 3)\n",
      "(4, 1) (3, 1)\n",
      "(4, 3)\n",
      "(4, 1) (3, 1)\n",
      "(4, 3)\n",
      "(4, 1) (3, 1)\n",
      "(4, 3)\n",
      "(4, 1) (3, 1)\n",
      "(4, 3)\n",
      "(4, 1) (3, 1)\n",
      "(4, 3)\n",
      "(4, 1) (3, 1)\n",
      "(4, 3)\n",
      "(4, 1) (3, 1)\n",
      "(4, 3)\n",
      "(4, 1) (3, 1)\n",
      "(4, 3)\n",
      "(4, 1) (3, 1)\n",
      "(4, 3)\n",
      "(4, 1) (3, 1)\n",
      "(4, 3)\n",
      "(4, 1) (3, 1)\n",
      "(4, 3)\n",
      "(4, 1) (3, 1)\n",
      "(4, 3)\n",
      "(4, 1) (3, 1)\n",
      "(4, 3)\n",
      "(4, 1) (3, 1)\n",
      "(4, 3)\n",
      "(4, 1) (3, 1)\n",
      "(4, 3)\n",
      "(4, 1) (3, 1)\n",
      "(4, 3)\n",
      "(4, 1) (3, 1)\n",
      "(4, 3)\n",
      "(4, 1) (3, 1)\n",
      "(4, 3)\n",
      "(4, 1) (3, 1)\n",
      "(4, 3)\n",
      "(4, 1) (3, 1)\n",
      "(4, 3)\n",
      "(4, 1) (3, 1)\n",
      "(4, 3)\n",
      "(4, 1) (3, 1)\n",
      "(4, 3)\n",
      "(4, 1) (3, 1)\n",
      "(4, 3)\n",
      "(4, 1) (3, 1)\n",
      "(4, 3)\n",
      "(4, 1) (3, 1)\n",
      "(4, 3)\n",
      "(4, 1) (3, 1)\n",
      "(4, 3)\n",
      "(4, 1) (3, 1)\n",
      "(4, 3)\n",
      "(4, 1) (3, 1)\n",
      "(4, 3)\n",
      "(4, 1) (3, 1)\n",
      "(4, 3)\n",
      "(4, 1) (3, 1)\n",
      "(4, 3)\n",
      "(4, 1) (3, 1)\n",
      "(4, 3)\n",
      "(4, 1) (3, 1)\n",
      "(4, 3)\n",
      "(4, 1) (3, 1)\n",
      "(4, 3)\n",
      "(4, 1) (3, 1)\n",
      "(4, 3)\n",
      "(4, 1) (3, 1)\n",
      "(4, 3)\n",
      "(4, 1) (3, 1)\n",
      "(4, 3)\n",
      "(4, 1) (3, 1)\n",
      "(4, 3)\n",
      "(4, 1) (3, 1)\n",
      "(4, 3)\n",
      "(4, 1) (3, 1)\n",
      "(4, 3)\n",
      "(4, 1) (3, 1)\n",
      "(4, 3)\n",
      "(4, 1) (3, 1)\n",
      "(4, 3)\n",
      "(4, 1) (3, 1)\n",
      "(4, 3)\n",
      "(4, 1) (3, 1)\n",
      "(4, 3)\n",
      "(4, 1) (3, 1)\n",
      "(4, 3)\n",
      "(4, 1) (3, 1)\n",
      "(4, 3)\n",
      "Warning: Desired error not necessarily achieved due to precision loss.\n",
      "         Current function value: 0.003752\n",
      "         Iterations: 47\n",
      "         Function evaluations: 176\n",
      "         Gradient evaluations: 164\n"
     ]
    }
   ],
   "source": [
    "T = trainer(NN)\n",
    "T.train(trainX, trainy, testX, testy)"
   ]
  },
  {
   "cell_type": "code",
   "execution_count": 92,
   "metadata": {},
   "outputs": [
    {
     "data": {
      "image/png": "[encoded data removed]",
      "text/plain": [
       "<matplotlib.figure.Figure at 0x10ffafe48>"
      ]
     },
     "metadata": {},
     "output_type": "display_data"
    }
   ],
   "source": [
    "plt.plot(T.J)\n",
    "plt.plot(T.testJ)\n",
    "plt.grid(1)\n",
    "plt.ylabel('Cost')\n",
    "plt.xlabel('Iterations')\n",
    "plt.legend(['Training', 'Testing'])\n",
    "plt.show()"
   ]
  },
  {
   "cell_type": "code",
   "execution_count": 93,
   "metadata": {},
   "outputs": [
    {
     "name": "stdout",
     "output_type": "stream",
     "text": [
      "(4, 1) (3, 1)\n",
      "(4, 3)\n"
     ]
    },
    {
     "data": {
      "text/plain": [
       "(array([[ -1.23155227e-04,   2.36392708e-04,  -1.64985423e-04],\n",
       "        [  5.79420927e-05,  -2.41507577e-04,  -1.07084636e-04]]),\n",
       " array([[ -7.03014548e-05],\n",
       "        [  1.32437663e-04],\n",
       "        [ -9.44279167e-04]]))"
      ]
     },
     "execution_count": 93,
     "metadata": {},
     "output_type": "execute_result"
    }
   ],
   "source": [
    "costFunctionPrime(X,y)"
   ]
  },
  {
   "cell_type": "code",
   "execution_count": 94,
   "metadata": {},
   "outputs": [
    {
     "data": {
      "text/plain": [
       "array([[ 0.74797303],\n",
       "       [ 0.79241746],\n",
       "       [ 0.84023814],\n",
       "       [ 0.80342368]])"
      ]
     },
     "execution_count": 94,
     "metadata": {},
     "output_type": "execute_result"
    }
   ],
   "source": [
    "NN.forward(X)"
   ]
  },
  {
   "cell_type": "code",
   "execution_count": 95,
   "metadata": {},
   "outputs": [
    {
     "data": {
      "text/plain": [
       "array([[ 0.75],\n",
       "       [ 0.82],\n",
       "       [ 0.93],\n",
       "       [ 0.7 ]])"
      ]
     },
     "execution_count": 95,
     "metadata": {},
     "output_type": "execute_result"
    }
   ],
   "source": [
    "y"
   ]
  },
  {
   "cell_type": "code",
   "execution_count": 96,
   "metadata": {},
   "outputs": [],
   "source": [
    "''' Final test using random data'''\n",
    "\n",
    "hoursSleep = np.linspace(0,10,100)\n",
    "hoursStudy = np.linspace(0,5,100)\n",
    "\n",
    "# Normalize\n",
    "hoursSleepNorm = hoursSleep/10.\n",
    "hoursStudyNorm = hoursStudy/5.\n",
    "\n",
    "# Make into 2D arrays\n",
    "a, b = np.meshgrid(hoursSleepNorm, hoursStudyNorm)\n",
    "\n",
    "# Merge into single matrix\n",
    "allInputs = np.zeros((a.size,2))\n",
    "allInputs[:,0]: a.ravel()\n",
    "allInputs[:,1]: b.ravel()"
   ]
  },
  {
   "cell_type": "code",
   "execution_count": 97,
   "metadata": {
    "collapsed": true
   },
   "outputs": [],
   "source": [
    "allOutputs = NN.forward(allInputs)"
   ]
  },
  {
   "cell_type": "code",
   "execution_count": null,
   "metadata": {
    "collapsed": true
   },
   "outputs": [],
   "source": []
  }
 ],
 "metadata": {
  "kernelspec": {
   "display_name": "Python 3",
   "language": "python",
   "name": "python3"
  },
  "language_info": {
   "codemirror_mode": {
    "name": "ipython",
    "version": 3
   },
   "file_extension": ".py",
   "mimetype": "text/x-python",
   "name": "python",
   "nbconvert_exporter": "python",
   "pygments_lexer": "ipython3",
   "version": "3.6.2"
  }
 },
 "nbformat": 4,
 "nbformat_minor": 2
}
